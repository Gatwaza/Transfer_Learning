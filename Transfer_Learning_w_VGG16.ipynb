{
  "nbformat": 4,
  "nbformat_minor": 0,
  "metadata": {
    "colab": {
      "provenance": []
    },
    "kernelspec": {
      "name": "python3",
      "display_name": "Python 3"
    },
    "language_info": {
      "name": "python"
    }
  },
  "cells": [
    {
      "cell_type": "code",
      "execution_count": 2,
      "metadata": {
        "id": "zCEzrZbisCrJ"
      },
      "outputs": [],
      "source": [
        "import numpy as np\n",
        "from keras.applications import VGG16\n",
        "from keras.datasets import cifar10\n",
        "from keras.utils import to_categorical\n",
        "from keras.models import Sequential\n",
        "from keras.layers import Dense, Flatten"
      ]
    },
    {
      "cell_type": "code",
      "source": [
        "# Load CIFAR-10 dataset\n",
        "(x_train, y_train), (x_test, y_test) = cifar10.load_data()"
      ],
      "metadata": {
        "colab": {
          "base_uri": "https://localhost:8080/"
        },
        "id": "sNPFnhLbtFI6",
        "outputId": "14c264d6-ef88-4248-bda5-f5e84d3fa5b9"
      },
      "execution_count": 3,
      "outputs": [
        {
          "output_type": "stream",
          "name": "stdout",
          "text": [
            "Downloading data from https://www.cs.toronto.edu/~kriz/cifar-10-python.tar.gz\n",
            "170498071/170498071 [==============================] - 3s 0us/step\n"
          ]
        }
      ]
    },
    {
      "cell_type": "code",
      "source": [
        "# Normalize pixel values to be between 0 and 1\n",
        "x_train = x_train.astype('float32') / 255.0\n",
        "x_test = x_test.astype('float32') /255.0"
      ],
      "metadata": {
        "id": "XT1wZQ_QuetX"
      },
      "execution_count": 4,
      "outputs": []
    },
    {
      "cell_type": "code",
      "source": [
        "# One-hot encode the labels\n",
        "y_train = to_categorical(y_train)\n",
        "y_test = to_categorical(y_test)"
      ],
      "metadata": {
        "id": "is-nxraOvHU6"
      },
      "execution_count": 5,
      "outputs": []
    },
    {
      "cell_type": "code",
      "source": [
        "# Load the pre-trained VGG16 model without the top (classification) layer\n",
        "base_model = VGG16(weights='imagenet' , include_top=False, input_shape=(32, 32, 3))"
      ],
      "metadata": {
        "colab": {
          "base_uri": "https://localhost:8080/"
        },
        "id": "K_kjhu2wwYoZ",
        "outputId": "c6d50ec1-20e4-4325-d405-1422308bc285"
      },
      "execution_count": 6,
      "outputs": [
        {
          "output_type": "stream",
          "name": "stdout",
          "text": [
            "Downloading data from https://storage.googleapis.com/tensorflow/keras-applications/vgg16/vgg16_weights_tf_dim_ordering_tf_kernels_notop.h5\n",
            "58889256/58889256 [==============================] - 0s 0us/step\n"
          ]
        }
      ]
    },
    {
      "cell_type": "markdown",
      "source": [],
      "metadata": {
        "id": "x_M09-wmuU-W"
      }
    },
    {
      "cell_type": "code",
      "source": [
        "# Freeze the layers in the base model so they are not trained\n",
        "for layer in base_model.layers:\n",
        "    layer.trainable = False"
      ],
      "metadata": {
        "id": "mrUvrnK4xBJZ"
      },
      "execution_count": 7,
      "outputs": []
    },
    {
      "cell_type": "code",
      "source": [
        "# Create a new model on top of the pre-trained model\n",
        "model = Sequential()\n",
        "model.add(base_model)\n",
        "model.add(Flatten())\n",
        "model.add(Dense(512, activation='relu'))\n",
        "model.add(Dense(10, activation='softmax')) # 10 classes for CIFAR-10"
      ],
      "metadata": {
        "id": "GQ1WhOxGxgUR"
      },
      "execution_count": 8,
      "outputs": []
    },
    {
      "cell_type": "code",
      "source": [
        "# Compile the model\n",
        "model.compile(optimizer='adam', loss='categorical_crossentropy', metrics=['accuracy'])"
      ],
      "metadata": {
        "id": "136eXBMZzbEF"
      },
      "execution_count": 9,
      "outputs": []
    },
    {
      "cell_type": "code",
      "source": [
        "# Train the model\n",
        "model.fit(x_train, y_train, batch_size=128, epochs=10, validation_data=(x_test, y_test))"
      ],
      "metadata": {
        "colab": {
          "base_uri": "https://localhost:8080/"
        },
        "id": "n_EkLnu5z4zC",
        "outputId": "3cfb90d6-d953-4962-abf1-6390705acfc5"
      },
      "execution_count": 10,
      "outputs": [
        {
          "output_type": "stream",
          "name": "stdout",
          "text": [
            "Epoch 1/10\n",
            "391/391 [==============================] - 748s 2s/step - loss: 1.3777 - accuracy: 0.5246 - val_loss: 1.2785 - val_accuracy: 0.5539\n",
            "Epoch 2/10\n",
            "391/391 [==============================] - 720s 2s/step - loss: 1.1828 - accuracy: 0.5878 - val_loss: 1.1815 - val_accuracy: 0.5881\n",
            "Epoch 3/10\n",
            "391/391 [==============================] - 745s 2s/step - loss: 1.1161 - accuracy: 0.6113 - val_loss: 1.1553 - val_accuracy: 0.5924\n",
            "Epoch 4/10\n",
            "391/391 [==============================] - 744s 2s/step - loss: 1.0690 - accuracy: 0.6276 - val_loss: 1.1251 - val_accuracy: 0.6079\n",
            "Epoch 5/10\n",
            "391/391 [==============================] - 741s 2s/step - loss: 1.0271 - accuracy: 0.6416 - val_loss: 1.1125 - val_accuracy: 0.6038\n",
            "Epoch 6/10\n",
            "391/391 [==============================] - 741s 2s/step - loss: 0.9914 - accuracy: 0.6531 - val_loss: 1.1049 - val_accuracy: 0.6157\n",
            "Epoch 7/10\n",
            "391/391 [==============================] - 746s 2s/step - loss: 0.9522 - accuracy: 0.6674 - val_loss: 1.1036 - val_accuracy: 0.6136\n",
            "Epoch 8/10\n",
            "391/391 [==============================] - 737s 2s/step - loss: 0.9196 - accuracy: 0.6780 - val_loss: 1.0988 - val_accuracy: 0.6193\n",
            "Epoch 9/10\n",
            "391/391 [==============================] - 736s 2s/step - loss: 0.8911 - accuracy: 0.6884 - val_loss: 1.1299 - val_accuracy: 0.6093\n",
            "Epoch 10/10\n",
            "391/391 [==============================] - 735s 2s/step - loss: 0.8594 - accuracy: 0.7021 - val_loss: 1.0857 - val_accuracy: 0.6248\n"
          ]
        },
        {
          "output_type": "execute_result",
          "data": {
            "text/plain": [
              "<keras.src.callbacks.History at 0x7ae639847280>"
            ]
          },
          "metadata": {},
          "execution_count": 10
        }
      ]
    },
    {
      "cell_type": "code",
      "source": [
        "# Evaluate the model\n",
        "score = model.evaluate(x_test, y_test, verbose=0)\n",
        "print('Test loss:', score[0])\n",
        "print('Test accuracy:', score[1])"
      ],
      "metadata": {
        "colab": {
          "base_uri": "https://localhost:8080/"
        },
        "id": "fvj_aGFlz4aM",
        "outputId": "8a8580a8-e401-4962-c3fb-9845a6e37198"
      },
      "execution_count": 11,
      "outputs": [
        {
          "output_type": "stream",
          "name": "stdout",
          "text": [
            "Test loss: 1.0856997966766357\n",
            "Test accuracy: 0.6248000264167786\n"
          ]
        }
      ]
    },
    {
      "cell_type": "code",
      "source": [
        "# Text document/file\n",
        "\n",
        "import matplotlib.pyplot as plt\n",
        "from keras.preprocessing import image as keras_image\n",
        "\n",
        "# Load the image\n",
        "image_path = \"image.png\"\n",
        "img = keras_image.load_img(image_path, target_size=(32, 32))\n",
        "img_array = keras_image.img_to_array(img)\n",
        "\n",
        "# Reshape and preprocess the image\n",
        "img_array = np.expand_dims(img_array, axis=0)\n",
        "img_array = img_array.astype('float32') / 255.0\n",
        "\n",
        "# Make prediction\n",
        "predictions = model.predict(img_array)\n",
        "predicted_label = np.argmax(predictions)\n",
        "\n",
        "# Display the image\n",
        "plt.imshow(img)\n",
        "plt.axis('off')\n",
        "plt.show()\n",
        "\n",
        "# Print the predicted label\n",
        "print(\"Predicted label:\", predicted_label)\n"
      ],
      "metadata": {
        "colab": {
          "base_uri": "https://localhost:8080/",
          "height": 441
        },
        "id": "L_-VncGaUkeV",
        "outputId": "2a43c092-18aa-43f9-d961-4ee178d8e6ea"
      },
      "execution_count": 18,
      "outputs": [
        {
          "output_type": "stream",
          "name": "stdout",
          "text": [
            "1/1 [==============================] - 1s 1s/step\n"
          ]
        },
        {
          "output_type": "display_data",
          "data": {
            "text/plain": [
              "<Figure size 640x480 with 1 Axes>"
            ],
            "image/png": "[encoded data removed]"
          },
          "metadata": {}
        },
        {
          "output_type": "stream",
          "name": "stdout",
          "text": [
            "Predicted label: 8\n"
          ]
        }
      ]
    },
    {
      "cell_type": "code",
      "source": [
        "!ls"
      ],
      "metadata": {
        "colab": {
          "base_uri": "https://localhost:8080/"
        },
        "id": "WkCbcNvhVdf6",
        "outputId": "cfb9aaa0-4e96-4d76-a21b-5c1a0461ebe6"
      },
      "execution_count": 19,
      "outputs": [
        {
          "output_type": "stream",
          "name": "stdout",
          "text": [
            "image.png  sample_data\n"
          ]
        }
      ]
    }
  ]
}